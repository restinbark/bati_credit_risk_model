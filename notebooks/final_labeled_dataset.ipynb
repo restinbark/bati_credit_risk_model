{
 "cells": [
  {
   "cell_type": "code",
   "execution_count": 5,
   "id": "b46adc56",
   "metadata": {},
   "outputs": [],
   "source": [
    "import sys\n",
    "import os\n",
    "\n",
    "# Add the project root (one level up from notebooks/) to sys.path\n",
    "notebook_dir = os.path.dirname(os.path.abspath(\"__file__\"))\n",
    "project_root = os.path.abspath(os.path.join(notebook_dir, \"..\"))\n",
    "sys.path.append(project_root)\n",
    "\n",
    "# Now try the import\n",
    "from src.label_creator import attach_label_to_dataset\n"
   ]
  },
  {
   "cell_type": "code",
   "execution_count": 11,
   "id": "92233da9",
   "metadata": {},
   "outputs": [
    {
     "name": "stdout",
     "output_type": "stream",
     "text": [
      "✅ Done: 'is_high_risk' label saved with dataset.\n"
     ]
    }
   ],
   "source": [
    "import pandas as pd\n",
    "\n",
    "df = pd.read_csv(\"../data/raw/data.csv\") \n",
    "\n",
    "labeled_df = attach_label_to_dataset(df)\n",
    "labeled_df.to_csv(\"../data/processed/credit_data_with_proxy_label.csv\", index=False)\n",
    "\n",
    "print(\"✅ Done: 'is_high_risk' label saved with dataset.\")\n",
    " \n"
   ]
  }
 ],
 "metadata": {
  "kernelspec": {
   "display_name": "Python 3",
   "language": "python",
   "name": "python3"
  },
  "language_info": {
   "codemirror_mode": {
    "name": "ipython",
    "version": 3
   },
   "file_extension": ".py",
   "mimetype": "text/x-python",
   "name": "python",
   "nbconvert_exporter": "python",
   "pygments_lexer": "ipython3",
   "version": "3.11.1"
  }
 },
 "nbformat": 4,
 "nbformat_minor": 5
}
