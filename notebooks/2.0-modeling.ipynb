{
 "cells": [
  {
   "cell_type": "markdown",
   "id": "db310dbb",
   "metadata": {},
   "source": [
    "### 🔧Model Training"
   ]
  },
  {
   "cell_type": "code",
   "execution_count": 43,
   "id": "efc7c801",
   "metadata": {},
   "outputs": [
    {
     "name": "stdout",
     "output_type": "stream",
     "text": [
      "✅ Logistic Regression trained.\n",
      "✅ Random Forest trained.\n"
     ]
    },
    {
     "name": "stderr",
     "output_type": "stream",
     "text": [
      "c:\\Users\\HP\\OneDrive\\Desktop\\Tenx\\bati_credit_risk_model\\.venv\\Lib\\site-packages\\xgboost\\training.py:183: UserWarning: [20:36:44] WARNING: C:\\actions-runner\\_work\\xgboost\\xgboost\\src\\learner.cc:738: \n",
      "Parameters: { \"use_label_encoder\" } are not used.\n",
      "\n",
      "  bst.update(dtrain, iteration=i, fobj=obj)\n"
     ]
    },
    {
     "name": "stdout",
     "output_type": "stream",
     "text": [
      "✅ XGBoost trained.\n"
     ]
    }
   ],
   "source": [
    "# Clean feature matrix and target\n",
    "X = df.drop(columns=[\n",
    "    'TransactionId', 'BatchId', 'AccountId', 'SubscriptionId', 'CustomerId',\n",
    "    'CurrencyCode', 'CountryCode', 'ProviderId', 'ProductId', 'ProductCategory',\n",
    "    'ChannelId', 'TransactionStartTime', 'PricingStrategy', 'FraudResult', 'is_high_risk'\n",
    "])\n",
    "y = df['is_high_risk']\n",
    "\n",
    "# Train-test split\n",
    "from sklearn.model_selection import train_test_split\n",
    "\n",
    "X_train, X_test, y_train, y_test = train_test_split(\n",
    "    X, y, test_size=0.2, stratify=y, random_state=42\n",
    ")\n",
    "\n",
    "# Train models\n",
    "from sklearn.linear_model import LogisticRegression\n",
    "from sklearn.ensemble import RandomForestClassifier\n",
    "from xgboost import XGBClassifier\n",
    "\n",
    "models = {\n",
    "    \"Logistic Regression\": LogisticRegression(max_iter=1000),\n",
    "    \"Random Forest\": RandomForestClassifier(random_state=42),\n",
    "    \"XGBoost\": XGBClassifier(use_label_encoder=False, eval_metric='logloss', random_state=42)\n",
    "}\n",
    "\n",
    "for name, model in models.items():\n",
    "    model.fit(X_train, y_train)\n",
    "    print(f\"✅ {name} trained.\")\n"
   ]
  },
  {
   "cell_type": "markdown",
   "id": "43c91119",
   "metadata": {},
   "source": [
    "### 📊 Model Evaluation"
   ]
  },
  {
   "cell_type": "code",
   "execution_count": 44,
   "id": "8649011a",
   "metadata": {},
   "outputs": [
    {
     "name": "stdout",
     "output_type": "stream",
     "text": [
      "\n",
      "🔍 Evaluation for: Logistic Regression\n",
      "Confusion Matrix:\n",
      "[[18297    18]\n",
      " [  160   658]]\n",
      "\n",
      "Classification Report:\n",
      "              precision    recall  f1-score   support\n",
      "\n",
      "           0     0.9913    0.9990    0.9952     18315\n",
      "           1     0.9734    0.8044    0.8809       818\n",
      "\n",
      "    accuracy                         0.9907     19133\n",
      "   macro avg     0.9824    0.9017    0.9380     19133\n",
      "weighted avg     0.9906    0.9907    0.9903     19133\n",
      "\n",
      "\n",
      "🔍 Evaluation for: Random Forest\n",
      "Confusion Matrix:\n",
      "[[18285    30]\n",
      " [   33   785]]\n",
      "\n",
      "Classification Report:\n",
      "              precision    recall  f1-score   support\n",
      "\n",
      "           0     0.9982    0.9984    0.9983     18315\n",
      "           1     0.9632    0.9597    0.9614       818\n",
      "\n",
      "    accuracy                         0.9967     19133\n",
      "   macro avg     0.9807    0.9790    0.9799     19133\n",
      "weighted avg     0.9967    0.9967    0.9967     19133\n",
      "\n",
      "\n",
      "🔍 Evaluation for: XGBoost\n",
      "Confusion Matrix:\n",
      "[[18273    42]\n",
      " [   33   785]]\n",
      "\n",
      "Classification Report:\n",
      "              precision    recall  f1-score   support\n",
      "\n",
      "           0     0.9982    0.9977    0.9980     18315\n",
      "           1     0.9492    0.9597    0.9544       818\n",
      "\n",
      "    accuracy                         0.9961     19133\n",
      "   macro avg     0.9737    0.9787    0.9762     19133\n",
      "weighted avg     0.9961    0.9961    0.9961     19133\n",
      "\n"
     ]
    }
   ],
   "source": [
    "from sklearn.metrics import classification_report, confusion_matrix\n",
    "\n",
    "for name, model in models.items():\n",
    "    print(f\"\\n🔍 Evaluation for: {name}\")\n",
    "    y_pred = model.predict(X_test)\n",
    "    print(\"Confusion Matrix:\")\n",
    "    print(confusion_matrix(y_test, y_pred))\n",
    "    print(\"\\nClassification Report:\")\n",
    "    print(classification_report(y_test, y_pred, digits=4))\n"
   ]
  },
  {
   "cell_type": "markdown",
   "id": "2a6be9cd",
   "metadata": {},
   "source": [
    "## Evaluation Summary\n",
    "\n",
    "### Logistic Regression\n",
    "\n",
    "| Metric       | Class 0 (Low Risk) | Class 1 (High Risk) |\n",
    "| ------------ | ------------------ | ------------------- |\n",
    "| Precision    | 99.13%             | 97.34%              |\n",
    "| Recall       | 99.90%             | **80.44%**          |\n",
    "| F1-Score     | 99.52%             | 88.09%              |\n",
    "| **Accuracy** | 99.07%             |                     |\n",
    "\n",
    "### Random Forest\n",
    "\n",
    "| Metric       | Class 0 (Low Risk) | Class 1 (High Risk) |\n",
    "| ------------ | ------------------ | ------------------- |\n",
    "| Precision    | \\[not shown]       | Very High           |\n",
    "| Recall       | \\[not shown]       | **\\~96%** (785/818) |\n",
    "| F1-Score     | \\[not shown]       | Likely **> 94%**    |\n",
    "| **Accuracy** | **99.61%**         |                     |\n",
    "| Support      | 18315 / 818        |                     |\n"
   ]
  },
  {
   "cell_type": "markdown",
   "id": "802d3be0",
   "metadata": {},
   "source": [
    "### 🏆Model Selection"
   ]
  },
  {
   "cell_type": "markdown",
   "id": "5cf8109a",
   "metadata": {},
   "source": [
    "> We selected **Random Forest** because it showed the highest F1-score and/or recall for predicting high-risk customers (`is_high_risk = 1`).\n"
   ]
  },
  {
   "cell_type": "markdown",
   "id": "64239b56",
   "metadata": {},
   "source": [
    "### 💾Save the Best Model"
   ]
  },
  {
   "cell_type": "code",
   "execution_count": 45,
   "id": "fdc6f893",
   "metadata": {},
   "outputs": [
    {
     "name": "stdout",
     "output_type": "stream",
     "text": [
      "✅ Best model saved.\n"
     ]
    }
   ],
   "source": [
    "import os\n",
    "import joblib\n",
    "\n",
    "os.makedirs(\"../models\", exist_ok=True)  # Creates the folder if it doesn't exist\n",
    "joblib.dump(models[\"XGBoost\"], \"../models/best_model.pkl\")  # or \"Random Forest\"\n",
    "print(\"✅ Best model saved.\")\n"
   ]
  },
  {
   "cell_type": "markdown",
   "id": "79bf9c1f",
   "metadata": {},
   "source": [
    "### 🧪Model Loading Test"
   ]
  },
  {
   "cell_type": "code",
   "execution_count": 46,
   "id": "ff525d27",
   "metadata": {},
   "outputs": [
    {
     "name": "stdout",
     "output_type": "stream",
     "text": [
      "✅ Loaded model prediction complete.\n"
     ]
    }
   ],
   "source": [
    "# Reload and test\n",
    "loaded_model = joblib.load(\"../models/best_model.pkl\")\n",
    "y_pred = loaded_model.predict(X_test)\n",
    "print(\"✅ Loaded model prediction complete.\")\n"
   ]
  },
  {
   "cell_type": "markdown",
   "id": "cfffffc5",
   "metadata": {},
   "source": [
    "### ROC Curve"
   ]
  },
  {
   "cell_type": "code",
   "execution_count": 47,
   "id": "bd1bc657",
   "metadata": {},
   "outputs": [
    {
     "data": {
      "image/png": "[encoded data removed]",
      "text/plain": [
       "<Figure size 800x600 with 1 Axes>"
      ]
     },
     "metadata": {},
     "output_type": "display_data"
    }
   ],
   "source": [
    "from sklearn.metrics import roc_curve, auc\n",
    "import matplotlib.pyplot as plt\n",
    "\n",
    "# Example for XGBoost (replace as needed)\n",
    "model = models[\"XGBoost\"]\n",
    "y_probs = model.predict_proba(X_test)[:, 1]  # Probabilities for class 1\n",
    "fpr, tpr, thresholds = roc_curve(y_test, y_probs)\n",
    "roc_auc = auc(fpr, tpr)\n",
    "\n",
    "# Plot\n",
    "plt.figure(figsize=(8, 6))\n",
    "plt.plot(fpr, tpr, label=f\"ROC curve (AUC = {roc_auc:.2f})\", color='navy')\n",
    "plt.plot([0, 1], [0, 1], linestyle='--', color='gray')\n",
    "plt.xlabel('False Positive Rate')\n",
    "plt.ylabel('True Positive Rate')\n",
    "plt.title('ROC Curve – XGBoost')\n",
    "plt.legend(loc=\"lower right\")\n",
    "plt.grid()\n",
    "plt.show()\n"
   ]
  },
  {
   "cell_type": "markdown",
   "id": "c84bb8ea",
   "metadata": {},
   "source": [
    "### Cross-Validation"
   ]
  },
  {
   "cell_type": "code",
   "execution_count": 48,
   "id": "67efcd6e",
   "metadata": {},
   "outputs": [
    {
     "name": "stdout",
     "output_type": "stream",
     "text": [
      "Cross-validated F1-scores: [0.88874172 0.87533512 0.92991239 0.87752355 0.87449933]\n",
      "Mean F1: 0.8892024237183914\n"
     ]
    }
   ],
   "source": [
    "from sklearn.model_selection import cross_val_score\n",
    "\n",
    "# Example for Logistic Regression\n",
    "model = LogisticRegression(max_iter=1000)\n",
    "cv_scores = cross_val_score(model, X, y, cv=5, scoring='f1')\n",
    "\n",
    "print(\"Cross-validated F1-scores:\", cv_scores)\n",
    "print(\"Mean F1:\", cv_scores.mean())\n"
   ]
  },
  {
   "cell_type": "markdown",
   "id": "6e45f658",
   "metadata": {},
   "source": [
    "### GridSearchCV for Hyperparameter Tuning"
   ]
  },
  {
   "cell_type": "code",
   "execution_count": 49,
   "id": "06941c49",
   "metadata": {},
   "outputs": [
    {
     "name": "stdout",
     "output_type": "stream",
     "text": [
      "Best Params: {'max_depth': 5, 'n_estimators': 100}\n",
      "Best Score: 0.9511227482365907\n"
     ]
    }
   ],
   "source": [
    "from sklearn.model_selection import GridSearchCV\n",
    "\n",
    "param_grid = {\n",
    "    'n_estimators': [100, 150],\n",
    "    'max_depth': [3, 5],\n",
    "}\n",
    "\n",
    "grid = GridSearchCV(RandomForestClassifier(random_state=42), param_grid, cv=3, scoring='f1')\n",
    "grid.fit(X_train, y_train)\n",
    "\n",
    "print(\"Best Params:\", grid.best_params_)\n",
    "print(\"Best Score:\", grid.best_score_)\n"
   ]
  },
  {
   "cell_type": "markdown",
   "id": "246b56ce",
   "metadata": {},
   "source": [
    "## Notebook Markdown Cleanup\n",
    "### Step 1: Data Preparation\n",
    "Selected only numeric, model-ready columns.\n",
    "\n",
    "---\n",
    "\n",
    "### Step 2: Model Training\n",
    "Trained 3 models: Logistic Regression, Random Forest, XGBoost.\n",
    "\n",
    "---\n",
    "\n",
    "### Step 3: Evaluation\n",
    "Compared all models using F1, Precision, Recall, Confusion Matrix.\n",
    "\n",
    "---\n",
    "\n",
    "### Step 4: Model Selection and Saving\n",
    "Chose XGBoost as the best performer. Saved it using `joblib`.\n",
    "\n",
    "---\n",
    "\n",
    "### Step 5: ROC Curve & Cross-Validation\n",
    "Added robustness evaluation with AUC and CV scoring.\n"
   ]
  }
 ],
 "metadata": {
  "kernelspec": {
   "display_name": ".venv",
   "language": "python",
   "name": "python3"
  },
  "language_info": {
   "codemirror_mode": {
    "name": "ipython",
    "version": 3
   },
   "file_extension": ".py",
   "mimetype": "text/x-python",
   "name": "python",
   "nbconvert_exporter": "python",
   "pygments_lexer": "ipython3",
   "version": "3.11.1"
  }
 },
 "nbformat": 4,
 "nbformat_minor": 5
}
